{
 "cells": [
  {
   "cell_type": "code",
   "execution_count": 1,
   "metadata": {},
   "outputs": [],
   "source": [
    "import pandas as pd\n",
    "import numpy as np\n",
    "import matplotlib.pyplot as plt\n",
    "import glob\n",
    "from sklearn import preprocessing"
   ]
  },
  {
   "cell_type": "code",
   "execution_count": 2,
   "metadata": {},
   "outputs": [
    {
     "data": {
      "text/plain": [
       "['Meteorite_Landings.csv',\n",
       " 'GLC03122015.csv',\n",
       " 'Fireball_And_Bolide_Reports.csv',\n",
       " 'Near-Earth_Comets_-_Orbital_Elements.csv']"
      ]
     },
     "execution_count": 2,
     "metadata": {},
     "output_type": "execute_result"
    }
   ],
   "source": [
    "files = glob.glob('*csv')\n",
    "files"
   ]
  },
  {
   "cell_type": "code",
   "execution_count": 3,
   "metadata": {},
   "outputs": [],
   "source": [
    "df = [pd.read_csv(element) for element in files]"
   ]
  },
  {
   "cell_type": "code",
   "execution_count": 4,
   "metadata": {},
   "outputs": [
    {
     "data": {
      "text/html": [
       "<div>\n",
       "<style scoped>\n",
       "    .dataframe tbody tr th:only-of-type {\n",
       "        vertical-align: middle;\n",
       "    }\n",
       "\n",
       "    .dataframe tbody tr th {\n",
       "        vertical-align: top;\n",
       "    }\n",
       "\n",
       "    .dataframe thead th {\n",
       "        text-align: right;\n",
       "    }\n",
       "</style>\n",
       "<table border=\"1\" class=\"dataframe\">\n",
       "  <thead>\n",
       "    <tr style=\"text-align: right;\">\n",
       "      <th></th>\n",
       "      <th>Date/Time - Peak Brightness (UT)</th>\n",
       "      <th>Latitude (Deg)</th>\n",
       "      <th>Longitude (Deg)</th>\n",
       "      <th>Altitude (km)</th>\n",
       "      <th>Velocity (km/s)</th>\n",
       "      <th>Velocity Components (km/s): vx</th>\n",
       "      <th>Velocity Components (km/s): vy</th>\n",
       "      <th>Velocity Components (km/s): vz</th>\n",
       "      <th>Total Radiated Energy (J)</th>\n",
       "      <th>Calculated Total Impact Energy (kt)</th>\n",
       "    </tr>\n",
       "  </thead>\n",
       "  <tbody>\n",
       "    <tr>\n",
       "      <th>0</th>\n",
       "      <td>11/21/2009 08:53:00 PM</td>\n",
       "      <td>22.0S</td>\n",
       "      <td>29.2E</td>\n",
       "      <td>38.0</td>\n",
       "      <td>32.1</td>\n",
       "      <td>3.0</td>\n",
       "      <td>-17.0</td>\n",
       "      <td>-27.0</td>\n",
       "      <td>10000000000000</td>\n",
       "      <td>18.00</td>\n",
       "    </tr>\n",
       "    <tr>\n",
       "      <th>1</th>\n",
       "      <td>01/09/2015 10:41:11 AM</td>\n",
       "      <td>2.0N</td>\n",
       "      <td>28.8E</td>\n",
       "      <td>36.0</td>\n",
       "      <td>NaN</td>\n",
       "      <td>-10.7</td>\n",
       "      <td>-7.6</td>\n",
       "      <td>11.6</td>\n",
       "      <td>139000000000</td>\n",
       "      <td>0.41</td>\n",
       "    </tr>\n",
       "    <tr>\n",
       "      <th>2</th>\n",
       "      <td>05/16/2014 12:42:48 PM</td>\n",
       "      <td>44.2S</td>\n",
       "      <td>176.2W</td>\n",
       "      <td>44.0</td>\n",
       "      <td>NaN</td>\n",
       "      <td>14.4</td>\n",
       "      <td>4.6</td>\n",
       "      <td>6.5</td>\n",
       "      <td>309000000000</td>\n",
       "      <td>0.82</td>\n",
       "    </tr>\n",
       "    <tr>\n",
       "      <th>3</th>\n",
       "      <td>08/23/2014 06:29:41 AM</td>\n",
       "      <td>61.7S</td>\n",
       "      <td>132.6E</td>\n",
       "      <td>22.2</td>\n",
       "      <td>16.2</td>\n",
       "      <td>-2.3</td>\n",
       "      <td>5.7</td>\n",
       "      <td>16.5</td>\n",
       "      <td>3820000000000</td>\n",
       "      <td>7.60</td>\n",
       "    </tr>\n",
       "    <tr>\n",
       "      <th>4</th>\n",
       "      <td>12/12/2014 06:48:11 AM</td>\n",
       "      <td>33.5N</td>\n",
       "      <td>144.9E</td>\n",
       "      <td>26.3</td>\n",
       "      <td>NaN</td>\n",
       "      <td>11.5</td>\n",
       "      <td>-2.8</td>\n",
       "      <td>-2.2</td>\n",
       "      <td>33000000000</td>\n",
       "      <td>0.11</td>\n",
       "    </tr>\n",
       "  </tbody>\n",
       "</table>\n",
       "</div>"
      ],
      "text/plain": [
       "  Date/Time - Peak Brightness (UT) Latitude (Deg) Longitude (Deg)  \\\n",
       "0           11/21/2009 08:53:00 PM          22.0S           29.2E   \n",
       "1           01/09/2015 10:41:11 AM           2.0N           28.8E   \n",
       "2           05/16/2014 12:42:48 PM          44.2S          176.2W   \n",
       "3           08/23/2014 06:29:41 AM          61.7S          132.6E   \n",
       "4           12/12/2014 06:48:11 AM          33.5N          144.9E   \n",
       "\n",
       "   Altitude (km)  Velocity (km/s)  Velocity Components (km/s): vx  \\\n",
       "0           38.0             32.1                             3.0   \n",
       "1           36.0              NaN                           -10.7   \n",
       "2           44.0              NaN                            14.4   \n",
       "3           22.2             16.2                            -2.3   \n",
       "4           26.3              NaN                            11.5   \n",
       "\n",
       "   Velocity Components (km/s): vy  Velocity Components (km/s): vz  \\\n",
       "0                           -17.0                           -27.0   \n",
       "1                            -7.6                            11.6   \n",
       "2                             4.6                             6.5   \n",
       "3                             5.7                            16.5   \n",
       "4                            -2.8                            -2.2   \n",
       "\n",
       "   Total Radiated Energy (J)  Calculated Total Impact Energy (kt)  \n",
       "0             10000000000000                                18.00  \n",
       "1               139000000000                                 0.41  \n",
       "2               309000000000                                 0.82  \n",
       "3              3820000000000                                 7.60  \n",
       "4                33000000000                                 0.11  "
      ]
     },
     "execution_count": 4,
     "metadata": {},
     "output_type": "execute_result"
    }
   ],
   "source": [
    "df[2]\n",
    "df[2].head()"
   ]
  },
  {
   "cell_type": "code",
   "execution_count": 5,
   "metadata": {},
   "outputs": [],
   "source": [
    "#North is + South is -, West is -, East is +\n",
    "d_pal = { 'S': -1, 'N': +1, 'W':-1, 'E': +1}"
   ]
  },
  {
   "cell_type": "code",
   "execution_count": 6,
   "metadata": {},
   "outputs": [
    {
     "data": {
      "text/html": [
       "<div>\n",
       "<style scoped>\n",
       "    .dataframe tbody tr th:only-of-type {\n",
       "        vertical-align: middle;\n",
       "    }\n",
       "\n",
       "    .dataframe tbody tr th {\n",
       "        vertical-align: top;\n",
       "    }\n",
       "\n",
       "    .dataframe thead th {\n",
       "        text-align: right;\n",
       "    }\n",
       "</style>\n",
       "<table border=\"1\" class=\"dataframe\">\n",
       "  <thead>\n",
       "    <tr style=\"text-align: right;\">\n",
       "      <th></th>\n",
       "      <th>Latitude (Deg)</th>\n",
       "      <th>Longitude (Deg)</th>\n",
       "      <th>Altitude (km)</th>\n",
       "      <th>Velocity Components (km/s): vx</th>\n",
       "      <th>Velocity Components (km/s): vy</th>\n",
       "      <th>Velocity Components (km/s): vz</th>\n",
       "      <th>Calculated Total Impact Energy (kt)</th>\n",
       "    </tr>\n",
       "  </thead>\n",
       "  <tbody>\n",
       "    <tr>\n",
       "      <th>0</th>\n",
       "      <td>22.0S</td>\n",
       "      <td>29.2E</td>\n",
       "      <td>38.0</td>\n",
       "      <td>3.0</td>\n",
       "      <td>-17.0</td>\n",
       "      <td>-27.0</td>\n",
       "      <td>18.00</td>\n",
       "    </tr>\n",
       "    <tr>\n",
       "      <th>1</th>\n",
       "      <td>2.0N</td>\n",
       "      <td>28.8E</td>\n",
       "      <td>36.0</td>\n",
       "      <td>-10.7</td>\n",
       "      <td>-7.6</td>\n",
       "      <td>11.6</td>\n",
       "      <td>0.41</td>\n",
       "    </tr>\n",
       "    <tr>\n",
       "      <th>2</th>\n",
       "      <td>44.2S</td>\n",
       "      <td>176.2W</td>\n",
       "      <td>44.0</td>\n",
       "      <td>14.4</td>\n",
       "      <td>4.6</td>\n",
       "      <td>6.5</td>\n",
       "      <td>0.82</td>\n",
       "    </tr>\n",
       "    <tr>\n",
       "      <th>3</th>\n",
       "      <td>61.7S</td>\n",
       "      <td>132.6E</td>\n",
       "      <td>22.2</td>\n",
       "      <td>-2.3</td>\n",
       "      <td>5.7</td>\n",
       "      <td>16.5</td>\n",
       "      <td>7.60</td>\n",
       "    </tr>\n",
       "    <tr>\n",
       "      <th>4</th>\n",
       "      <td>33.5N</td>\n",
       "      <td>144.9E</td>\n",
       "      <td>26.3</td>\n",
       "      <td>11.5</td>\n",
       "      <td>-2.8</td>\n",
       "      <td>-2.2</td>\n",
       "      <td>0.11</td>\n",
       "    </tr>\n",
       "  </tbody>\n",
       "</table>\n",
       "</div>"
      ],
      "text/plain": [
       "  Latitude (Deg) Longitude (Deg)  Altitude (km)  \\\n",
       "0          22.0S           29.2E           38.0   \n",
       "1           2.0N           28.8E           36.0   \n",
       "2          44.2S          176.2W           44.0   \n",
       "3          61.7S          132.6E           22.2   \n",
       "4          33.5N          144.9E           26.3   \n",
       "\n",
       "   Velocity Components (km/s): vx  Velocity Components (km/s): vy  \\\n",
       "0                             3.0                           -17.0   \n",
       "1                           -10.7                            -7.6   \n",
       "2                            14.4                             4.6   \n",
       "3                            -2.3                             5.7   \n",
       "4                            11.5                            -2.8   \n",
       "\n",
       "   Velocity Components (km/s): vz  Calculated Total Impact Energy (kt)  \n",
       "0                           -27.0                                18.00  \n",
       "1                            11.6                                 0.41  \n",
       "2                             6.5                                 0.82  \n",
       "3                            16.5                                 7.60  \n",
       "4                            -2.2                                 0.11  "
      ]
     },
     "execution_count": 6,
     "metadata": {},
     "output_type": "execute_result"
    }
   ],
   "source": [
    "loc_eig = df[2].iloc[:, 1:]\n",
    "loc_eig = loc_eig.drop('Total Radiated Energy (J)', axis =1 )\n",
    "loc_eig = loc_eig.drop('Velocity (km/s)', axis =1 )\n",
    "loc_eig.head()"
   ]
  },
  {
   "cell_type": "code",
   "execution_count": 7,
   "metadata": {},
   "outputs": [
    {
     "data": {
      "text/html": [
       "<div>\n",
       "<style scoped>\n",
       "    .dataframe tbody tr th:only-of-type {\n",
       "        vertical-align: middle;\n",
       "    }\n",
       "\n",
       "    .dataframe tbody tr th {\n",
       "        vertical-align: top;\n",
       "    }\n",
       "\n",
       "    .dataframe thead th {\n",
       "        text-align: right;\n",
       "    }\n",
       "</style>\n",
       "<table border=\"1\" class=\"dataframe\">\n",
       "  <thead>\n",
       "    <tr style=\"text-align: right;\">\n",
       "      <th></th>\n",
       "      <th>Latitude (Deg)</th>\n",
       "      <th>Longitude (Deg)</th>\n",
       "      <th>Altitude (km)</th>\n",
       "      <th>Velocity Components (km/s): vx</th>\n",
       "      <th>Velocity Components (km/s): vy</th>\n",
       "      <th>Velocity Components (km/s): vz</th>\n",
       "      <th>Calculated Total Impact Energy (kt)</th>\n",
       "    </tr>\n",
       "  </thead>\n",
       "  <tbody>\n",
       "    <tr>\n",
       "      <th>0</th>\n",
       "      <td>-22.0</td>\n",
       "      <td>29.2</td>\n",
       "      <td>38.0</td>\n",
       "      <td>3.0</td>\n",
       "      <td>-17.0</td>\n",
       "      <td>-27.0</td>\n",
       "      <td>18.00</td>\n",
       "    </tr>\n",
       "    <tr>\n",
       "      <th>1</th>\n",
       "      <td>2.0</td>\n",
       "      <td>28.8</td>\n",
       "      <td>36.0</td>\n",
       "      <td>-10.7</td>\n",
       "      <td>-7.6</td>\n",
       "      <td>11.6</td>\n",
       "      <td>0.41</td>\n",
       "    </tr>\n",
       "    <tr>\n",
       "      <th>2</th>\n",
       "      <td>-44.2</td>\n",
       "      <td>-176.2</td>\n",
       "      <td>44.0</td>\n",
       "      <td>14.4</td>\n",
       "      <td>4.6</td>\n",
       "      <td>6.5</td>\n",
       "      <td>0.82</td>\n",
       "    </tr>\n",
       "    <tr>\n",
       "      <th>3</th>\n",
       "      <td>-61.7</td>\n",
       "      <td>132.6</td>\n",
       "      <td>22.2</td>\n",
       "      <td>-2.3</td>\n",
       "      <td>5.7</td>\n",
       "      <td>16.5</td>\n",
       "      <td>7.60</td>\n",
       "    </tr>\n",
       "    <tr>\n",
       "      <th>4</th>\n",
       "      <td>33.5</td>\n",
       "      <td>144.9</td>\n",
       "      <td>26.3</td>\n",
       "      <td>11.5</td>\n",
       "      <td>-2.8</td>\n",
       "      <td>-2.2</td>\n",
       "      <td>0.11</td>\n",
       "    </tr>\n",
       "  </tbody>\n",
       "</table>\n",
       "</div>"
      ],
      "text/plain": [
       "   Latitude (Deg)  Longitude (Deg)  Altitude (km)  \\\n",
       "0           -22.0             29.2           38.0   \n",
       "1             2.0             28.8           36.0   \n",
       "2           -44.2           -176.2           44.0   \n",
       "3           -61.7            132.6           22.2   \n",
       "4            33.5            144.9           26.3   \n",
       "\n",
       "   Velocity Components (km/s): vx  Velocity Components (km/s): vy  \\\n",
       "0                             3.0                           -17.0   \n",
       "1                           -10.7                            -7.6   \n",
       "2                            14.4                             4.6   \n",
       "3                            -2.3                             5.7   \n",
       "4                            11.5                            -2.8   \n",
       "\n",
       "   Velocity Components (km/s): vz  Calculated Total Impact Energy (kt)  \n",
       "0                           -27.0                                18.00  \n",
       "1                            11.6                                 0.41  \n",
       "2                             6.5                                 0.82  \n",
       "3                            16.5                                 7.60  \n",
       "4                            -2.2                                 0.11  "
      ]
     },
     "execution_count": 7,
     "metadata": {},
     "output_type": "execute_result"
    }
   ],
   "source": [
    "loc_eig['Latitude (Deg)'] = loc_eig['Latitude (Deg)'].apply(lambda a: d_pal[a[-1]] * float(a[:-1]))\n",
    "loc_eig['Longitude (Deg)'] = loc_eig['Longitude (Deg)'].apply(lambda a: d_pal[a[-1]] * float(a[:-1]))\n",
    "loc_eig.head()"
   ]
  },
  {
   "cell_type": "code",
   "execution_count": 8,
   "metadata": {},
   "outputs": [],
   "source": [
    "loc_eig = loc_eig.drop(23, axis = 0)"
   ]
  },
  {
   "cell_type": "code",
   "execution_count": 9,
   "metadata": {},
   "outputs": [
    {
     "data": {
      "text/html": [
       "<div>\n",
       "<style scoped>\n",
       "    .dataframe tbody tr th:only-of-type {\n",
       "        vertical-align: middle;\n",
       "    }\n",
       "\n",
       "    .dataframe tbody tr th {\n",
       "        vertical-align: top;\n",
       "    }\n",
       "\n",
       "    .dataframe thead th {\n",
       "        text-align: right;\n",
       "    }\n",
       "</style>\n",
       "<table border=\"1\" class=\"dataframe\">\n",
       "  <thead>\n",
       "    <tr style=\"text-align: right;\">\n",
       "      <th></th>\n",
       "      <th>Latitude (Deg)</th>\n",
       "      <th>Longitude (Deg)</th>\n",
       "      <th>Altitude (km)</th>\n",
       "      <th>Velocity Components (km/s): vx</th>\n",
       "      <th>Velocity Components (km/s): vy</th>\n",
       "      <th>Velocity Components (km/s): vz</th>\n",
       "      <th>Calculated Total Impact Energy (kt)</th>\n",
       "    </tr>\n",
       "  </thead>\n",
       "  <tbody>\n",
       "    <tr>\n",
       "      <th>0</th>\n",
       "      <td>-22.0</td>\n",
       "      <td>29.2</td>\n",
       "      <td>38.0</td>\n",
       "      <td>3.0</td>\n",
       "      <td>-17.0</td>\n",
       "      <td>-27.0</td>\n",
       "      <td>18.00</td>\n",
       "    </tr>\n",
       "    <tr>\n",
       "      <th>1</th>\n",
       "      <td>2.0</td>\n",
       "      <td>28.8</td>\n",
       "      <td>36.0</td>\n",
       "      <td>-10.7</td>\n",
       "      <td>-7.6</td>\n",
       "      <td>11.6</td>\n",
       "      <td>0.41</td>\n",
       "    </tr>\n",
       "    <tr>\n",
       "      <th>2</th>\n",
       "      <td>-44.2</td>\n",
       "      <td>-176.2</td>\n",
       "      <td>44.0</td>\n",
       "      <td>14.4</td>\n",
       "      <td>4.6</td>\n",
       "      <td>6.5</td>\n",
       "      <td>0.82</td>\n",
       "    </tr>\n",
       "    <tr>\n",
       "      <th>3</th>\n",
       "      <td>-61.7</td>\n",
       "      <td>132.6</td>\n",
       "      <td>22.2</td>\n",
       "      <td>-2.3</td>\n",
       "      <td>5.7</td>\n",
       "      <td>16.5</td>\n",
       "      <td>7.60</td>\n",
       "    </tr>\n",
       "    <tr>\n",
       "      <th>4</th>\n",
       "      <td>33.5</td>\n",
       "      <td>144.9</td>\n",
       "      <td>26.3</td>\n",
       "      <td>11.5</td>\n",
       "      <td>-2.8</td>\n",
       "      <td>-2.2</td>\n",
       "      <td>0.11</td>\n",
       "    </tr>\n",
       "  </tbody>\n",
       "</table>\n",
       "</div>"
      ],
      "text/plain": [
       "   Latitude (Deg)  Longitude (Deg)  Altitude (km)  \\\n",
       "0           -22.0             29.2           38.0   \n",
       "1             2.0             28.8           36.0   \n",
       "2           -44.2           -176.2           44.0   \n",
       "3           -61.7            132.6           22.2   \n",
       "4            33.5            144.9           26.3   \n",
       "\n",
       "   Velocity Components (km/s): vx  Velocity Components (km/s): vy  \\\n",
       "0                             3.0                           -17.0   \n",
       "1                           -10.7                            -7.6   \n",
       "2                            14.4                             4.6   \n",
       "3                            -2.3                             5.7   \n",
       "4                            11.5                            -2.8   \n",
       "\n",
       "   Velocity Components (km/s): vz  Calculated Total Impact Energy (kt)  \n",
       "0                           -27.0                                18.00  \n",
       "1                            11.6                                 0.41  \n",
       "2                             6.5                                 0.82  \n",
       "3                            16.5                                 7.60  \n",
       "4                            -2.2                                 0.11  "
      ]
     },
     "execution_count": 9,
     "metadata": {},
     "output_type": "execute_result"
    }
   ],
   "source": [
    "loc_eig = loc_eig.fillna(loc_eig.mean())\n",
    "loc_eig.head()"
   ]
  },
  {
   "cell_type": "code",
   "execution_count": 10,
   "metadata": {},
   "outputs": [],
   "source": [
    "x = loc_eig.iloc[:, :].values"
   ]
  },
  {
   "cell_type": "code",
   "execution_count": 11,
   "metadata": {},
   "outputs": [],
   "source": [
    "#min_max_scaler = preprocessing.MinMaxScaler()\n",
    "#x_scaled = min_max_scaler.fit_transform(x)"
   ]
  },
  {
   "cell_type": "code",
   "execution_count": 12,
   "metadata": {},
   "outputs": [
    {
     "data": {
      "text/plain": [
       "(91, 7)"
      ]
     },
     "execution_count": 12,
     "metadata": {},
     "output_type": "execute_result"
    }
   ],
   "source": [
    "x.shape"
   ]
  },
  {
   "cell_type": "code",
   "execution_count": 13,
   "metadata": {},
   "outputs": [],
   "source": [
    "c = np.dot(x.T, x)"
   ]
  },
  {
   "cell_type": "code",
   "execution_count": 14,
   "metadata": {},
   "outputs": [
    {
     "data": {
      "text/plain": [
       "(7, 7)"
      ]
     },
     "execution_count": 14,
     "metadata": {},
     "output_type": "execute_result"
    }
   ],
   "source": [
    "c.shape"
   ]
  },
  {
   "cell_type": "code",
   "execution_count": 15,
   "metadata": {},
   "outputs": [],
   "source": [
    "[U, S, V] = np.linalg.svd(c)"
   ]
  },
  {
   "cell_type": "code",
   "execution_count": 16,
   "metadata": {},
   "outputs": [],
   "source": [
    "#PCA Space\n",
    "Z = np.dot(x, U[:, :2])"
   ]
  },
  {
   "cell_type": "code",
   "execution_count": 17,
   "metadata": {},
   "outputs": [
    {
     "data": {
      "image/png": "[encoded data removed]",
      "text/plain": [
       "<Figure size 720x720 with 1 Axes>"
      ]
     },
     "metadata": {},
     "output_type": "display_data"
    }
   ],
   "source": [
    "plt.figure(figsize= (10, 10))\n",
    "plt.scatter(Z[:, 0],Z[:, 1] )\n",
    "plt.title('PCA space');\n",
    "plt.xlabel('PCA1');\n",
    "plt.ylabel('PCA2');"
   ]
  },
  {
   "cell_type": "code",
   "execution_count": 18,
   "metadata": {},
   "outputs": [],
   "source": [
    "x_r = np.dot(Z, U[:, :2].T)"
   ]
  },
  {
   "cell_type": "code",
   "execution_count": 19,
   "metadata": {},
   "outputs": [
    {
     "data": {
      "text/plain": [
       "array([ -11.42350001, -112.05891182,    7.71413161,   -0.54838166,\n",
       "          2.02690914,    1.56181436,   -0.7924843 ])"
      ]
     },
     "execution_count": 19,
     "metadata": {},
     "output_type": "execute_result"
    }
   ],
   "source": [
    "x_r[21]"
   ]
  },
  {
   "cell_type": "code",
   "execution_count": 20,
   "metadata": {},
   "outputs": [
    {
     "data": {
      "text/plain": [
       "Latitude (Deg)                         -6.205495\n",
       "Longitude (Deg)                        -5.651648\n",
       "Altitude (km)                          32.449254\n",
       "Velocity Components (km/s): vx          1.247059\n",
       "Velocity Components (km/s): vy         -2.631373\n",
       "Velocity Components (km/s): vz         -1.113725\n",
       "Calculated Total Impact Energy (kt)     1.581934\n",
       "dtype: float64"
      ]
     },
     "execution_count": 20,
     "metadata": {},
     "output_type": "execute_result"
    }
   ],
   "source": [
    "loc_eig.mean()"
   ]
  },
  {
   "cell_type": "code",
   "execution_count": null,
   "metadata": {},
   "outputs": [],
   "source": []
  },
  {
   "cell_type": "code",
   "execution_count": null,
   "metadata": {},
   "outputs": [],
   "source": []
  }
 ],
 "metadata": {
  "kernelspec": {
   "display_name": "Python 2",
   "language": "python",
   "name": "python2"
  },
  "language_info": {
   "codemirror_mode": {
    "name": "ipython",
    "version": 2
   },
   "file_extension": ".py",
   "mimetype": "text/x-python",
   "name": "python",
   "nbconvert_exporter": "python",
   "pygments_lexer": "ipython2",
   "version": "2.7.10"
  }
 },
 "nbformat": 4,
 "nbformat_minor": 2
}
